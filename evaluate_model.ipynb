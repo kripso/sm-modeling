{
 "cells": [
  {
   "cell_type": "code",
   "execution_count": null,
   "metadata": {},
   "outputs": [],
   "source": [
    "from torch.utils.data import DataLoader\n",
    "import pandas as pd\n",
    "import torch\n",
    "import wandb\n",
    "\n",
    "from modeling_classes import CustomBertForTokenClassification, CustomDataset\n",
    "import utils"
   ]
  },
  {
   "cell_type": "code",
   "execution_count": null,
   "metadata": {},
   "outputs": [],
   "source": [
    "LABELS_TO_IDS, IDS_TO_LABELS = utils.load_labels()\n",
    "DEVICE = \"cuda\" if torch.cuda.is_available() else \"cpu\""
   ]
  },
  {
   "cell_type": "code",
   "execution_count": null,
   "metadata": {},
   "outputs": [],
   "source": [
    "def get_labels():\n",
    "    return [item for item in IDS_TO_LABELS.values()]"
   ]
  },
  {
   "cell_type": "code",
   "execution_count": null,
   "metadata": {},
   "outputs": [],
   "source": [
    "@utils.wandb_init({'project_name': 'dp-project-validate'})\n",
    "def init_model():\n",
    "    model = CustomBertForTokenClassification(labels=get_labels()).to(DEVICE)\n",
    "    model = utils.load_model(model)\n",
    "    return model"
   ]
  },
  {
   "cell_type": "code",
   "execution_count": null,
   "metadata": {},
   "outputs": [],
   "source": [
    "model = init_model()"
   ]
  },
  {
   "cell_type": "code",
   "execution_count": null,
   "metadata": {},
   "outputs": [],
   "source": [
    "sentence = utils.string_to_list_1(\n",
    "    # \"Roland is my brother from another mother, we have been friends since High School.\"\n",
    "    \"@HuggingFace is a New York company, it has employees in Paris since 1923, but it has been down today 12:30\"\n",
    ")\n",
    "model.eval()\n",
    "with torch.inference_mode():\n",
    "    encoded = CustomDataset.tokenize(sentence, is_split=True, return_tensors='pt').to(DEVICE)\n",
    "\n",
    "    probs = model(encoded[\"input_ids\"], attention_mask=encoded[\"attention_mask\"])\n",
    "\n",
    "    flattened_predictions = torch.argmax(probs, axis=1).cpu().numpy()\n",
    "\n",
    "    index = 0\n",
    "    for token, mapping in zip(flattened_predictions, encoded[\"offset_mapping\"].view(-1, 2).tolist()):\n",
    "        if mapping[0] == 0 and mapping[1] != 0:\n",
    "            print(f'{sentence[index]:20}  {IDS_TO_LABELS.get(token)}')\n",
    "            index += 1"
   ]
  }
 ],
 "metadata": {
  "kernelspec": {
   "display_name": "py10",
   "language": "python",
   "name": "python3"
  },
  "language_info": {
   "codemirror_mode": {
    "name": "ipython",
    "version": 3
   },
   "file_extension": ".py",
   "mimetype": "text/x-python",
   "name": "python",
   "nbconvert_exporter": "python",
   "pygments_lexer": "ipython3",
   "version": "3.10.8 (main, Nov 24 2022, 14:13:03) [GCC 11.2.0]"
  },
  "orig_nbformat": 4,
  "vscode": {
   "interpreter": {
    "hash": "414129bc5f9fadc6aae6e1926404349d54c672fb6156a1a65104540d3f3f309d"
   }
  }
 },
 "nbformat": 4,
 "nbformat_minor": 2
}
