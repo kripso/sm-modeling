{
 "cells": [
  {
   "cell_type": "code",
   "execution_count": null,
   "metadata": {},
   "outputs": [],
   "source": [
    "from torch.utils.data import DataLoader\n",
    "import pandas as pd\n",
    "import torch\n",
    "import wandb\n",
    "\n",
    "from modeling_classes import JointNERAndREModel, JointNERAndREDataset\n",
    "import utils"
   ]
  },
  {
   "cell_type": "code",
   "execution_count": null,
   "metadata": {},
   "outputs": [],
   "source": [
    "LABELS_TO_IDS, IDS_TO_LABELS = utils.load_labels()\n",
    "RELATIONS_TO_IDS, IDS_TO_RELATIONS = utils.load_relations()\n",
    "DEVICE = \"cuda\" if torch.cuda.is_available() else \"cpu\""
   ]
  },
  {
   "cell_type": "code",
   "execution_count": null,
   "metadata": {},
   "outputs": [],
   "source": [
    "model = init_model()"
   ]
  },
  {
   "cell_type": "code",
   "execution_count": null,
   "metadata": {},
   "outputs": [],
   "source": [
    "sentence = utils.string_to_list_1(\n",
    "    # \"Roland Rajcsanyi is my brother from another mother, we have been friends since High School.\"\n",
    "    \"@HuggingFace is a New York company, it has employees in Paris since 1923, but it has been down today 12:30\"\n",
    ")\n",
    "model.eval()\n",
    "with torch.inference_mode():\n",
    "    encoded = JointNERAndREDataset.tokenize(sentence, is_split=True, return_tensors='pt').to(DEVICE)\n",
    "\n",
    "    model_out = model(encoded[\"input_ids\"], attention_mask=encoded[\"attention_mask\"])\n",
    "    ner_predictions = torch.argmax(model_out.ner_probs.view(-1, model.num_labels), axis=1).tolist()\n",
    "    re_predictions = torch.argmax(model_out.re_probs, axis=1).tolist()[0]\n",
    "    \n",
    "    \n",
    "    index = 0\n",
    "    metadata = {\"relation\": IDS_TO_RELATIONS.get(re_predictions), 'entities': []}\n",
    "    for token, mapping in zip(ner_predictions, encoded[\"offset_mapping\"].view(-1, 2).tolist()):\n",
    "        if mapping[0] == 0 and mapping[1] != 0:\n",
    "            metadata['entities'].append({'type': IDS_TO_LABELS.get(token), 'location': index})\n",
    "            print(f'{sentence[index]:20}  {IDS_TO_LABELS.get(token)}')\n",
    "            index += 1\n",
    "\n",
    "    print(metadata)"
   ]
  }
 ],
 "metadata": {
  "kernelspec": {
   "display_name": "py10",
   "language": "python",
   "name": "python3"
  },
  "language_info": {
   "codemirror_mode": {
    "name": "ipython",
    "version": 3
   },
   "file_extension": ".py",
   "mimetype": "text/x-python",
   "name": "python",
   "nbconvert_exporter": "python",
   "pygments_lexer": "ipython3",
   "version": "3.10.8"
  },
  "orig_nbformat": 4,
  "vscode": {
   "interpreter": {
    "hash": "414129bc5f9fadc6aae6e1926404349d54c672fb6156a1a65104540d3f3f309d"
   }
  }
 },
 "nbformat": 4,
 "nbformat_minor": 2
}
