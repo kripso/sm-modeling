{
 "cells": [
  {
   "cell_type": "code",
   "execution_count": null,
   "metadata": {},
   "outputs": [],
   "source": [
    "import pandas as pd\n",
    "import cleanup_utils"
   ]
  },
  {
   "cell_type": "code",
   "execution_count": null,
   "metadata": {},
   "outputs": [],
   "source": [
    "ROOT_PATH = '/data/NLP/tacred/data'"
   ]
  },
  {
   "cell_type": "code",
   "execution_count": null,
   "metadata": {},
   "outputs": [],
   "source": [
    "def prepare_df(df) -> pd.DataFrame:\n",
    "    df = (\n",
    "        df\n",
    "        .assign(subjectSpan=df.apply(lambda x: [x['subj_start'], x['subj_end']], axis=1))\n",
    "        .assign(objectSpan=df.apply(lambda x: [x['obj_start'], x['obj_end']], axis=1))\n",
    "        .loc[:,['relation','objectSpan','subjectSpan','subj_type','obj_type','token','stanford_ner']]\n",
    "        .rename(columns={'stanford_ner': 'labels'})\n",
    "        .rename(columns={'token': 'tokens'})\n",
    "    )\n",
    "    df = (\n",
    "        df\n",
    "        .assign(tokens=df['tokens'].apply(cleanup_utils.normalize_glove))\n",
    "        .assign(labels=df['labels'].apply(cleanup_utils.process_labels))\n",
    "        .assign(object=df.apply(lambda row: ' '.join(row['tokens'][row['objectSpan'][0]:row['objectSpan'][1]+1]), axis=1))\n",
    "        .assign(subject=df.apply(lambda row: ' '.join(row['tokens'][row['subjectSpan'][0]:row['subjectSpan'][1]+1]), axis=1))\n",
    "    )\n",
    "\n",
    "    return df\n",
    "\n",
    "\n",
    "for _dir in os.listdir(f'{ROOT_PATH}/rev/'):\n",
    "    prepare_df(pd.read_json(f\"{ROOT_PATH}/rev/{_dir}\").reset_index(drop=True)).to_json(f'{ROOT_PATH}/preprocessed/{_dir}')\n"
   ]
  },
  {
   "cell_type": "code",
   "execution_count": null,
   "metadata": {},
   "outputs": [],
   "source": [
    "train_df = pd.read_json(f\"{ROOT_PATH}/preprocessed/train.json\").reset_index(drop=True)\n",
    "dev_df = pd.read_json(f\"{ROOT_PATH}/preprocessed/dev.json\").reset_index(drop=True)\n",
    "test_df = pd.read_json(f\"{ROOT_PATH}/preprocessed/test.json\").reset_index(drop=True)"
   ]
  },
  {
   "cell_type": "code",
   "execution_count": null,
   "metadata": {},
   "outputs": [],
   "source": [
    "dev_df.head(10)"
   ]
  },
  {
   "cell_type": "code",
   "execution_count": null,
   "metadata": {},
   "outputs": [],
   "source": [
    "print(pd.unique(train_df['relation']))"
   ]
  },
  {
   "cell_type": "code",
   "execution_count": null,
   "metadata": {},
   "outputs": [],
   "source": [
    "print(pd.unique(train_df.explode('labels')['labels']))"
   ]
  }
 ],
 "metadata": {
  "kernelspec": {
   "display_name": "py10",
   "language": "python",
   "name": "python3"
  },
  "language_info": {
   "codemirror_mode": {
    "name": "ipython",
    "version": 3
   },
   "file_extension": ".py",
   "mimetype": "text/x-python",
   "name": "python",
   "nbconvert_exporter": "python",
   "pygments_lexer": "ipython3",
   "version": "3.10.8"
  },
  "orig_nbformat": 4,
  "vscode": {
   "interpreter": {
    "hash": "414129bc5f9fadc6aae6e1926404349d54c672fb6156a1a65104540d3f3f309d"
   }
  }
 },
 "nbformat": 4,
 "nbformat_minor": 2
}
